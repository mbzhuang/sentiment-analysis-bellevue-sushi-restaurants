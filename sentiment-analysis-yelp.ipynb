{
 "cells": [
  {
   "cell_type": "markdown",
   "metadata": {
    "button": false,
    "deletable": true,
    "focus": false,
    "id": "69b9a648-bcc7-490d-9f9b-ea244d156bd6",
    "new_sheet": false,
    "run_control": {
     "read_only": false
    }
   },
   "source": [
    "# Web Scraping & Predicting"
   ]
  },
  {
   "cell_type": "markdown",
   "metadata": {
    "button": false,
    "deletable": true,
    "focus": false,
    "id": "34681254-c802-462f-829d-8894d0772d08",
    "new_sheet": false,
    "run_control": {
     "read_only": false
    }
   },
   "source": [
    "In this project, we will practice two major skills. Collecting data by scraping a website and building a binary predictor with Logistic Regression."
   ]
  },
  {
   "cell_type": "markdown",
   "metadata": {},
   "source": [
    "## Yelp data web-scraping: Research on Sushi Restaurants in Bellevue, WA"
   ]
  },
  {
   "cell_type": "code",
   "execution_count": null,
   "metadata": {
    "collapsed": true
   },
   "outputs": [],
   "source": []
  },
  {
   "cell_type": "markdown",
   "metadata": {},
   "source": [
    "### Project Goal: Predict customer's attitude toward a restaurant based on the content of his/her review"
   ]
  },
  {
   "cell_type": "code",
   "execution_count": null,
   "metadata": {
    "collapsed": true
   },
   "outputs": [],
   "source": []
  },
  {
   "cell_type": "markdown",
   "metadata": {},
   "source": [
    "### Bag of Words Approach: \n",
    "features: binary variables of the occurrence of key words conveying positive and negative sentiments\n",
    "\n",
    "response variable: \n",
    "       Binary variable of customer's attitude toward a restaurant (positive or negative), together with Probability of a review is positive"
   ]
  },
  {
   "cell_type": "markdown",
   "metadata": {},
   "source": [
    "### Model Accuracy:"
   ]
  },
  {
   "cell_type": "code",
   "execution_count": 62,
   "metadata": {
    "collapsed": false
   },
   "outputs": [],
   "source": [
    "#                  precision    recall  f1-score   support        \n",
    "\n",
    "              0       0.58      0.34      0.43        62\n",
    "              1       0.86      0.95      0.90       276\n",
    "\n",
    "#   avg / total       0.81      0.83      0.82       338"
   ]
  },
  {
   "cell_type": "markdown",
   "metadata": {
    "button": false,
    "deletable": true,
    "focus": false,
    "id": "a948d79c-5527-4c0d-ab23-f5d43ce72056",
    "new_sheet": false,
    "run_control": {
     "read_only": false
    }
   },
   "source": [
    "### Step 1: Scrape your site"
   ]
  },
  {
   "cell_type": "markdown",
   "metadata": {
    "button": false,
    "deletable": true,
    "focus": true,
    "id": "7203e0c9-e437-4802-a6ad-7dc464f94436",
    "new_sheet": false,
    "run_control": {
     "read_only": false
    }
   },
   "source": [
    "We will be scraping your website using BeautifulSoup. Write your code below."
   ]
  },
  {
   "cell_type": "code",
   "execution_count": 1,
   "metadata": {
    "button": false,
    "collapsed": true,
    "deletable": true,
    "focus": false,
    "id": "2efefc73-064a-482d-b3b5-ddf5508cb4ec",
    "new_sheet": false,
    "run_control": {
     "read_only": false
    }
   },
   "outputs": [],
   "source": [
    "import urllib2\n",
    "from bs4 import BeautifulSoup\n",
    "import requests\n",
    "import json\n",
    "import numpy as np\n",
    "import pandas as pd\n",
    "import matplotlib.pyplot as plt\n",
    "%matplotlib inline"
   ]
  },
  {
   "cell_type": "code",
   "execution_count": 2,
   "metadata": {
    "button": false,
    "collapsed": true,
    "deletable": true,
    "focus": false,
    "id": "2c6752c4-7704-4c94-8bc0-6f13d2d0d570",
    "new_sheet": false,
    "run_control": {
     "read_only": false
    }
   },
   "outputs": [],
   "source": [
    "# Yelp Page Scraping\n",
    "url = 'https://www.yelp.com/search?find_desc=sushi&find_loc=Bellevue,+WA'\n",
    "base = 'https://www.yelp.com'\n",
    "\n",
    "# Retrieve the Name, Address and URL of each restaurant that we are interested in from Yelp \n",
    "restaurantsDict = {\n",
    "    'name':[],\n",
    "    'url':[],\n",
    "    'address':[]\n",
    "}\n",
    "\n",
    "stepList = map(str, range(0, 60, 10)) \n",
    " \n",
    "for step in stepList:\n",
    "    if step == '':\n",
    "         r = requests.get(url)\n",
    "    else: \n",
    "        r = requests.get(url+'&start='+ str(step))\n",
    "        \n",
    "    # Convert the content into a usable format\n",
    "    soup = BeautifulSoup(r.content, \"lxml\")  \n",
    "\n",
    "    for (idx, data) in enumerate(soup.find_all([\"div\"], {\"class\":\"media-story\"})):\n",
    "        if idx > 1:\n",
    "            for content in data.find_all([\"p\"], {\"class\":\"snippet\"}):\n",
    "                for link in content.find_all(\"a\"):\n",
    "                    restaurantsDict['url'] += [base + link['href']]\n",
    "            for content in data.find_all([\"a\"], {\"data-analytics-label\":\"biz-name\"}):\n",
    "                restaurantsDict['name'] += [content.text] \n",
    "            \n",
    "    for (idy, data) in enumerate(soup.find_all([\"div\"], {\"class\":\"secondary-attributes\"})):\n",
    "        if idy > 0:\n",
    "            for content in data.find_all([\"address\"]):\n",
    "                restaurantsDict['address'] += [content.text.replace(\"\\n\", \"\").strip()]\n",
    "\n",
    "# Save the Restaurants Info in the following data frame, add restaurant ID\n",
    "restaurantsDF = pd.DataFrame(restaurantsDict)\n",
    "restaurantsDF['id'] = restaurantsDF.index + 1"
   ]
  },
  {
   "cell_type": "markdown",
   "metadata": {
    "button": false,
    "deletable": true,
    "focus": false,
    "id": "f1eddb90-4ba8-483c-a229-77e93aa53119",
    "new_sheet": false,
    "run_control": {
     "read_only": false
    }
   },
   "source": [
    "### Write functions to extract the features you think correlate well with your dataset. You MUST have at least 4 features!\n",
    "\n",
    "- **Make sure these functions are robust and can handle cases where fields may not be available.**\n",
    "    - Remember to check if a field is empty or `None` for attempting to call methods on it\n",
    "    - Remember to use `try/except` if you anticipate errors\n",
    "- **Test** the functions on the results above and simple examples"
   ]
  },
  {
   "cell_type": "code",
   "execution_count": 87,
   "metadata": {
    "button": false,
    "collapsed": true,
    "deletable": true,
    "focus": false,
    "id": "a1af53c9-9090-494f-b82e-cadb60a54909",
    "new_sheet": false,
    "run_control": {
     "read_only": false
    }
   },
   "outputs": [
    {
     "name": "stdout",
     "output_type": "stream",
     "text": [
      "1 : 'ratings'\n",
      "2 : 'ratings'\n",
      "3 : 'ratings'\n",
      "4 : 'ratings'\n",
      "5 : 'ratings'\n",
      "6 : 'ratings'\n",
      "7 : 'ratings'\n",
      "8 : 'ratings'\n",
      "9 : 'ratings'\n",
      "10 : 'ratings'\n",
      "11 : 'ratings'\n",
      "12 : 'ratings'\n",
      "13 : 'ratings'\n",
      "14 : 'ratings'\n",
      "15 : 'ratings'\n",
      "16 : 'ratings'\n",
      "17 : 'ratings'\n",
      "18 : 'ratings'\n"
     ]
    },
    {
     "ename": "KeyboardInterrupt",
     "evalue": "",
     "output_type": "error",
     "traceback": [
      "\u001b[1;31m---------------------------------------------------------------------------\u001b[0m",
      "\u001b[1;31mKeyboardInterrupt\u001b[0m                         Traceback (most recent call last)",
      "\u001b[1;32m<ipython-input-87-3be2d1fa785d>\u001b[0m in \u001b[0;36m<module>\u001b[1;34m()\u001b[0m\n\u001b[0;32m     12\u001b[0m             }\n\u001b[0;32m     13\u001b[0m \u001b[1;33m\u001b[0m\u001b[0m\n\u001b[1;32m---> 14\u001b[1;33m         \u001b[0mr\u001b[0m \u001b[1;33m=\u001b[0m \u001b[0mrequests\u001b[0m\u001b[1;33m.\u001b[0m\u001b[0mget\u001b[0m\u001b[1;33m(\u001b[0m\u001b[0mrestaurantsDF\u001b[0m\u001b[1;33m[\u001b[0m\u001b[1;34m'url'\u001b[0m\u001b[1;33m]\u001b[0m\u001b[1;33m[\u001b[0m\u001b[0mi\u001b[0m\u001b[1;33m-\u001b[0m\u001b[1;36m1\u001b[0m\u001b[1;33m]\u001b[0m\u001b[1;33m)\u001b[0m\u001b[1;33m\u001b[0m\u001b[0m\n\u001b[0m\u001b[0;32m     15\u001b[0m         \u001b[0msoup\u001b[0m \u001b[1;33m=\u001b[0m \u001b[0mBeautifulSoup\u001b[0m\u001b[1;33m(\u001b[0m\u001b[0mr\u001b[0m\u001b[1;33m.\u001b[0m\u001b[0mcontent\u001b[0m\u001b[1;33m,\u001b[0m \u001b[1;34m\"lxml\"\u001b[0m\u001b[1;33m)\u001b[0m\u001b[1;33m\u001b[0m\u001b[0m\n\u001b[0;32m     16\u001b[0m \u001b[1;33m\u001b[0m\u001b[0m\n",
      "\u001b[1;32mC:\\Users\\jason\\Anaconda2\\lib\\site-packages\\requests\\api.pyc\u001b[0m in \u001b[0;36mget\u001b[1;34m(url, params, **kwargs)\u001b[0m\n\u001b[0;32m     65\u001b[0m \u001b[1;33m\u001b[0m\u001b[0m\n\u001b[0;32m     66\u001b[0m     \u001b[0mkwargs\u001b[0m\u001b[1;33m.\u001b[0m\u001b[0msetdefault\u001b[0m\u001b[1;33m(\u001b[0m\u001b[1;34m'allow_redirects'\u001b[0m\u001b[1;33m,\u001b[0m \u001b[0mTrue\u001b[0m\u001b[1;33m)\u001b[0m\u001b[1;33m\u001b[0m\u001b[0m\n\u001b[1;32m---> 67\u001b[1;33m     \u001b[1;32mreturn\u001b[0m \u001b[0mrequest\u001b[0m\u001b[1;33m(\u001b[0m\u001b[1;34m'get'\u001b[0m\u001b[1;33m,\u001b[0m \u001b[0murl\u001b[0m\u001b[1;33m,\u001b[0m \u001b[0mparams\u001b[0m\u001b[1;33m=\u001b[0m\u001b[0mparams\u001b[0m\u001b[1;33m,\u001b[0m \u001b[1;33m**\u001b[0m\u001b[0mkwargs\u001b[0m\u001b[1;33m)\u001b[0m\u001b[1;33m\u001b[0m\u001b[0m\n\u001b[0m\u001b[0;32m     68\u001b[0m \u001b[1;33m\u001b[0m\u001b[0m\n\u001b[0;32m     69\u001b[0m \u001b[1;33m\u001b[0m\u001b[0m\n",
      "\u001b[1;32mC:\\Users\\jason\\Anaconda2\\lib\\site-packages\\requests\\api.pyc\u001b[0m in \u001b[0;36mrequest\u001b[1;34m(method, url, **kwargs)\u001b[0m\n\u001b[0;32m     51\u001b[0m     \u001b[1;31m# cases, and look like a memory leak in others.\u001b[0m\u001b[1;33m\u001b[0m\u001b[1;33m\u001b[0m\u001b[0m\n\u001b[0;32m     52\u001b[0m     \u001b[1;32mwith\u001b[0m \u001b[0msessions\u001b[0m\u001b[1;33m.\u001b[0m\u001b[0mSession\u001b[0m\u001b[1;33m(\u001b[0m\u001b[1;33m)\u001b[0m \u001b[1;32mas\u001b[0m \u001b[0msession\u001b[0m\u001b[1;33m:\u001b[0m\u001b[1;33m\u001b[0m\u001b[0m\n\u001b[1;32m---> 53\u001b[1;33m         \u001b[1;32mreturn\u001b[0m \u001b[0msession\u001b[0m\u001b[1;33m.\u001b[0m\u001b[0mrequest\u001b[0m\u001b[1;33m(\u001b[0m\u001b[0mmethod\u001b[0m\u001b[1;33m=\u001b[0m\u001b[0mmethod\u001b[0m\u001b[1;33m,\u001b[0m \u001b[0murl\u001b[0m\u001b[1;33m=\u001b[0m\u001b[0murl\u001b[0m\u001b[1;33m,\u001b[0m \u001b[1;33m**\u001b[0m\u001b[0mkwargs\u001b[0m\u001b[1;33m)\u001b[0m\u001b[1;33m\u001b[0m\u001b[0m\n\u001b[0m\u001b[0;32m     54\u001b[0m \u001b[1;33m\u001b[0m\u001b[0m\n\u001b[0;32m     55\u001b[0m \u001b[1;33m\u001b[0m\u001b[0m\n",
      "\u001b[1;32mC:\\Users\\jason\\Anaconda2\\lib\\site-packages\\requests\\sessions.pyc\u001b[0m in \u001b[0;36mrequest\u001b[1;34m(self, method, url, params, data, headers, cookies, files, auth, timeout, allow_redirects, proxies, hooks, stream, verify, cert, json)\u001b[0m\n\u001b[0;32m    466\u001b[0m         }\n\u001b[0;32m    467\u001b[0m         \u001b[0msend_kwargs\u001b[0m\u001b[1;33m.\u001b[0m\u001b[0mupdate\u001b[0m\u001b[1;33m(\u001b[0m\u001b[0msettings\u001b[0m\u001b[1;33m)\u001b[0m\u001b[1;33m\u001b[0m\u001b[0m\n\u001b[1;32m--> 468\u001b[1;33m         \u001b[0mresp\u001b[0m \u001b[1;33m=\u001b[0m \u001b[0mself\u001b[0m\u001b[1;33m.\u001b[0m\u001b[0msend\u001b[0m\u001b[1;33m(\u001b[0m\u001b[0mprep\u001b[0m\u001b[1;33m,\u001b[0m \u001b[1;33m**\u001b[0m\u001b[0msend_kwargs\u001b[0m\u001b[1;33m)\u001b[0m\u001b[1;33m\u001b[0m\u001b[0m\n\u001b[0m\u001b[0;32m    469\u001b[0m \u001b[1;33m\u001b[0m\u001b[0m\n\u001b[0;32m    470\u001b[0m         \u001b[1;32mreturn\u001b[0m \u001b[0mresp\u001b[0m\u001b[1;33m\u001b[0m\u001b[0m\n",
      "\u001b[1;32mC:\\Users\\jason\\Anaconda2\\lib\\site-packages\\requests\\sessions.pyc\u001b[0m in \u001b[0;36msend\u001b[1;34m(self, request, **kwargs)\u001b[0m\n\u001b[0;32m    574\u001b[0m \u001b[1;33m\u001b[0m\u001b[0m\n\u001b[0;32m    575\u001b[0m         \u001b[1;31m# Send the request\u001b[0m\u001b[1;33m\u001b[0m\u001b[1;33m\u001b[0m\u001b[0m\n\u001b[1;32m--> 576\u001b[1;33m         \u001b[0mr\u001b[0m \u001b[1;33m=\u001b[0m \u001b[0madapter\u001b[0m\u001b[1;33m.\u001b[0m\u001b[0msend\u001b[0m\u001b[1;33m(\u001b[0m\u001b[0mrequest\u001b[0m\u001b[1;33m,\u001b[0m \u001b[1;33m**\u001b[0m\u001b[0mkwargs\u001b[0m\u001b[1;33m)\u001b[0m\u001b[1;33m\u001b[0m\u001b[0m\n\u001b[0m\u001b[0;32m    577\u001b[0m \u001b[1;33m\u001b[0m\u001b[0m\n\u001b[0;32m    578\u001b[0m         \u001b[1;31m# Total elapsed time of the request (approximately)\u001b[0m\u001b[1;33m\u001b[0m\u001b[1;33m\u001b[0m\u001b[0m\n",
      "\u001b[1;32mC:\\Users\\jason\\Anaconda2\\lib\\site-packages\\requests\\adapters.pyc\u001b[0m in \u001b[0;36msend\u001b[1;34m(self, request, stream, timeout, verify, cert, proxies)\u001b[0m\n\u001b[0;32m    374\u001b[0m                     \u001b[0mdecode_content\u001b[0m\u001b[1;33m=\u001b[0m\u001b[0mFalse\u001b[0m\u001b[1;33m,\u001b[0m\u001b[1;33m\u001b[0m\u001b[0m\n\u001b[0;32m    375\u001b[0m                     \u001b[0mretries\u001b[0m\u001b[1;33m=\u001b[0m\u001b[0mself\u001b[0m\u001b[1;33m.\u001b[0m\u001b[0mmax_retries\u001b[0m\u001b[1;33m,\u001b[0m\u001b[1;33m\u001b[0m\u001b[0m\n\u001b[1;32m--> 376\u001b[1;33m                     \u001b[0mtimeout\u001b[0m\u001b[1;33m=\u001b[0m\u001b[0mtimeout\u001b[0m\u001b[1;33m\u001b[0m\u001b[0m\n\u001b[0m\u001b[0;32m    377\u001b[0m                 )\n\u001b[0;32m    378\u001b[0m \u001b[1;33m\u001b[0m\u001b[0m\n",
      "\u001b[1;32mC:\\Users\\jason\\Anaconda2\\lib\\site-packages\\requests\\packages\\urllib3\\connectionpool.pyc\u001b[0m in \u001b[0;36murlopen\u001b[1;34m(self, method, url, body, headers, retries, redirect, assert_same_host, timeout, pool_timeout, release_conn, **response_kw)\u001b[0m\n\u001b[0;32m    557\u001b[0m             httplib_response = self._make_request(conn, method, url,\n\u001b[0;32m    558\u001b[0m                                                   \u001b[0mtimeout\u001b[0m\u001b[1;33m=\u001b[0m\u001b[0mtimeout_obj\u001b[0m\u001b[1;33m,\u001b[0m\u001b[1;33m\u001b[0m\u001b[0m\n\u001b[1;32m--> 559\u001b[1;33m                                                   body=body, headers=headers)\n\u001b[0m\u001b[0;32m    560\u001b[0m \u001b[1;33m\u001b[0m\u001b[0m\n\u001b[0;32m    561\u001b[0m             \u001b[1;31m# If we're going to release the connection in ``finally:``, then\u001b[0m\u001b[1;33m\u001b[0m\u001b[1;33m\u001b[0m\u001b[0m\n",
      "\u001b[1;32mC:\\Users\\jason\\Anaconda2\\lib\\site-packages\\requests\\packages\\urllib3\\connectionpool.pyc\u001b[0m in \u001b[0;36m_make_request\u001b[1;34m(self, conn, method, url, timeout, **httplib_request_kw)\u001b[0m\n\u001b[0;32m    374\u001b[0m         \u001b[1;32mtry\u001b[0m\u001b[1;33m:\u001b[0m\u001b[1;33m\u001b[0m\u001b[0m\n\u001b[0;32m    375\u001b[0m             \u001b[1;32mtry\u001b[0m\u001b[1;33m:\u001b[0m  \u001b[1;31m# Python 2.7, use buffering of HTTP responses\u001b[0m\u001b[1;33m\u001b[0m\u001b[0m\n\u001b[1;32m--> 376\u001b[1;33m                 \u001b[0mhttplib_response\u001b[0m \u001b[1;33m=\u001b[0m \u001b[0mconn\u001b[0m\u001b[1;33m.\u001b[0m\u001b[0mgetresponse\u001b[0m\u001b[1;33m(\u001b[0m\u001b[0mbuffering\u001b[0m\u001b[1;33m=\u001b[0m\u001b[0mTrue\u001b[0m\u001b[1;33m)\u001b[0m\u001b[1;33m\u001b[0m\u001b[0m\n\u001b[0m\u001b[0;32m    377\u001b[0m             \u001b[1;32mexcept\u001b[0m \u001b[0mTypeError\u001b[0m\u001b[1;33m:\u001b[0m  \u001b[1;31m# Python 2.6 and older\u001b[0m\u001b[1;33m\u001b[0m\u001b[0m\n\u001b[0;32m    378\u001b[0m                 \u001b[0mhttplib_response\u001b[0m \u001b[1;33m=\u001b[0m \u001b[0mconn\u001b[0m\u001b[1;33m.\u001b[0m\u001b[0mgetresponse\u001b[0m\u001b[1;33m(\u001b[0m\u001b[1;33m)\u001b[0m\u001b[1;33m\u001b[0m\u001b[0m\n",
      "\u001b[1;32mC:\\Users\\jason\\Anaconda2\\lib\\httplib.pyc\u001b[0m in \u001b[0;36mgetresponse\u001b[1;34m(self, buffering)\u001b[0m\n\u001b[0;32m   1134\u001b[0m \u001b[1;33m\u001b[0m\u001b[0m\n\u001b[0;32m   1135\u001b[0m         \u001b[1;32mtry\u001b[0m\u001b[1;33m:\u001b[0m\u001b[1;33m\u001b[0m\u001b[0m\n\u001b[1;32m-> 1136\u001b[1;33m             \u001b[0mresponse\u001b[0m\u001b[1;33m.\u001b[0m\u001b[0mbegin\u001b[0m\u001b[1;33m(\u001b[0m\u001b[1;33m)\u001b[0m\u001b[1;33m\u001b[0m\u001b[0m\n\u001b[0m\u001b[0;32m   1137\u001b[0m             \u001b[1;32massert\u001b[0m \u001b[0mresponse\u001b[0m\u001b[1;33m.\u001b[0m\u001b[0mwill_close\u001b[0m \u001b[1;33m!=\u001b[0m \u001b[0m_UNKNOWN\u001b[0m\u001b[1;33m\u001b[0m\u001b[0m\n\u001b[0;32m   1138\u001b[0m             \u001b[0mself\u001b[0m\u001b[1;33m.\u001b[0m\u001b[0m__state\u001b[0m \u001b[1;33m=\u001b[0m \u001b[0m_CS_IDLE\u001b[0m\u001b[1;33m\u001b[0m\u001b[0m\n",
      "\u001b[1;32mC:\\Users\\jason\\Anaconda2\\lib\\httplib.pyc\u001b[0m in \u001b[0;36mbegin\u001b[1;34m(self)\u001b[0m\n\u001b[0;32m    451\u001b[0m         \u001b[1;31m# read until we get a non-100 response\u001b[0m\u001b[1;33m\u001b[0m\u001b[1;33m\u001b[0m\u001b[0m\n\u001b[0;32m    452\u001b[0m         \u001b[1;32mwhile\u001b[0m \u001b[0mTrue\u001b[0m\u001b[1;33m:\u001b[0m\u001b[1;33m\u001b[0m\u001b[0m\n\u001b[1;32m--> 453\u001b[1;33m             \u001b[0mversion\u001b[0m\u001b[1;33m,\u001b[0m \u001b[0mstatus\u001b[0m\u001b[1;33m,\u001b[0m \u001b[0mreason\u001b[0m \u001b[1;33m=\u001b[0m \u001b[0mself\u001b[0m\u001b[1;33m.\u001b[0m\u001b[0m_read_status\u001b[0m\u001b[1;33m(\u001b[0m\u001b[1;33m)\u001b[0m\u001b[1;33m\u001b[0m\u001b[0m\n\u001b[0m\u001b[0;32m    454\u001b[0m             \u001b[1;32mif\u001b[0m \u001b[0mstatus\u001b[0m \u001b[1;33m!=\u001b[0m \u001b[0mCONTINUE\u001b[0m\u001b[1;33m:\u001b[0m\u001b[1;33m\u001b[0m\u001b[0m\n\u001b[0;32m    455\u001b[0m                 \u001b[1;32mbreak\u001b[0m\u001b[1;33m\u001b[0m\u001b[0m\n",
      "\u001b[1;32mC:\\Users\\jason\\Anaconda2\\lib\\httplib.pyc\u001b[0m in \u001b[0;36m_read_status\u001b[1;34m(self)\u001b[0m\n\u001b[0;32m    407\u001b[0m     \u001b[1;32mdef\u001b[0m \u001b[0m_read_status\u001b[0m\u001b[1;33m(\u001b[0m\u001b[0mself\u001b[0m\u001b[1;33m)\u001b[0m\u001b[1;33m:\u001b[0m\u001b[1;33m\u001b[0m\u001b[0m\n\u001b[0;32m    408\u001b[0m         \u001b[1;31m# Initialize with Simple-Response defaults\u001b[0m\u001b[1;33m\u001b[0m\u001b[1;33m\u001b[0m\u001b[0m\n\u001b[1;32m--> 409\u001b[1;33m         \u001b[0mline\u001b[0m \u001b[1;33m=\u001b[0m \u001b[0mself\u001b[0m\u001b[1;33m.\u001b[0m\u001b[0mfp\u001b[0m\u001b[1;33m.\u001b[0m\u001b[0mreadline\u001b[0m\u001b[1;33m(\u001b[0m\u001b[0m_MAXLINE\u001b[0m \u001b[1;33m+\u001b[0m \u001b[1;36m1\u001b[0m\u001b[1;33m)\u001b[0m\u001b[1;33m\u001b[0m\u001b[0m\n\u001b[0m\u001b[0;32m    410\u001b[0m         \u001b[1;32mif\u001b[0m \u001b[0mlen\u001b[0m\u001b[1;33m(\u001b[0m\u001b[0mline\u001b[0m\u001b[1;33m)\u001b[0m \u001b[1;33m>\u001b[0m \u001b[0m_MAXLINE\u001b[0m\u001b[1;33m:\u001b[0m\u001b[1;33m\u001b[0m\u001b[0m\n\u001b[0;32m    411\u001b[0m             \u001b[1;32mraise\u001b[0m \u001b[0mLineTooLong\u001b[0m\u001b[1;33m(\u001b[0m\u001b[1;34m\"header line\"\u001b[0m\u001b[1;33m)\u001b[0m\u001b[1;33m\u001b[0m\u001b[0m\n",
      "\u001b[1;32mC:\\Users\\jason\\Anaconda2\\lib\\socket.pyc\u001b[0m in \u001b[0;36mreadline\u001b[1;34m(self, size)\u001b[0m\n\u001b[0;32m    478\u001b[0m             \u001b[1;32mwhile\u001b[0m \u001b[0mTrue\u001b[0m\u001b[1;33m:\u001b[0m\u001b[1;33m\u001b[0m\u001b[0m\n\u001b[0;32m    479\u001b[0m                 \u001b[1;32mtry\u001b[0m\u001b[1;33m:\u001b[0m\u001b[1;33m\u001b[0m\u001b[0m\n\u001b[1;32m--> 480\u001b[1;33m                     \u001b[0mdata\u001b[0m \u001b[1;33m=\u001b[0m \u001b[0mself\u001b[0m\u001b[1;33m.\u001b[0m\u001b[0m_sock\u001b[0m\u001b[1;33m.\u001b[0m\u001b[0mrecv\u001b[0m\u001b[1;33m(\u001b[0m\u001b[0mself\u001b[0m\u001b[1;33m.\u001b[0m\u001b[0m_rbufsize\u001b[0m\u001b[1;33m)\u001b[0m\u001b[1;33m\u001b[0m\u001b[0m\n\u001b[0m\u001b[0;32m    481\u001b[0m                 \u001b[1;32mexcept\u001b[0m \u001b[0merror\u001b[0m\u001b[1;33m,\u001b[0m \u001b[0me\u001b[0m\u001b[1;33m:\u001b[0m\u001b[1;33m\u001b[0m\u001b[0m\n\u001b[0;32m    482\u001b[0m                     \u001b[1;32mif\u001b[0m \u001b[0me\u001b[0m\u001b[1;33m.\u001b[0m\u001b[0margs\u001b[0m\u001b[1;33m[\u001b[0m\u001b[1;36m0\u001b[0m\u001b[1;33m]\u001b[0m \u001b[1;33m==\u001b[0m \u001b[0mEINTR\u001b[0m\u001b[1;33m:\u001b[0m\u001b[1;33m\u001b[0m\u001b[0m\n",
      "\u001b[1;32mC:\\Users\\jason\\Anaconda2\\lib\\ssl.pyc\u001b[0m in \u001b[0;36mrecv\u001b[1;34m(self, buflen, flags)\u001b[0m\n\u001b[0;32m    754\u001b[0m                     \u001b[1;34m\"non-zero flags not allowed in calls to recv() on %s\"\u001b[0m \u001b[1;33m%\u001b[0m\u001b[1;33m\u001b[0m\u001b[0m\n\u001b[0;32m    755\u001b[0m                     self.__class__)\n\u001b[1;32m--> 756\u001b[1;33m             \u001b[1;32mreturn\u001b[0m \u001b[0mself\u001b[0m\u001b[1;33m.\u001b[0m\u001b[0mread\u001b[0m\u001b[1;33m(\u001b[0m\u001b[0mbuflen\u001b[0m\u001b[1;33m)\u001b[0m\u001b[1;33m\u001b[0m\u001b[0m\n\u001b[0m\u001b[0;32m    757\u001b[0m         \u001b[1;32melse\u001b[0m\u001b[1;33m:\u001b[0m\u001b[1;33m\u001b[0m\u001b[0m\n\u001b[0;32m    758\u001b[0m             \u001b[1;32mreturn\u001b[0m \u001b[0mself\u001b[0m\u001b[1;33m.\u001b[0m\u001b[0m_sock\u001b[0m\u001b[1;33m.\u001b[0m\u001b[0mrecv\u001b[0m\u001b[1;33m(\u001b[0m\u001b[0mbuflen\u001b[0m\u001b[1;33m,\u001b[0m \u001b[0mflags\u001b[0m\u001b[1;33m)\u001b[0m\u001b[1;33m\u001b[0m\u001b[0m\n",
      "\u001b[1;32mC:\\Users\\jason\\Anaconda2\\lib\\ssl.pyc\u001b[0m in \u001b[0;36mread\u001b[1;34m(self, len, buffer)\u001b[0m\n\u001b[0;32m    641\u001b[0m                 \u001b[0mv\u001b[0m \u001b[1;33m=\u001b[0m \u001b[0mself\u001b[0m\u001b[1;33m.\u001b[0m\u001b[0m_sslobj\u001b[0m\u001b[1;33m.\u001b[0m\u001b[0mread\u001b[0m\u001b[1;33m(\u001b[0m\u001b[0mlen\u001b[0m\u001b[1;33m,\u001b[0m \u001b[0mbuffer\u001b[0m\u001b[1;33m)\u001b[0m\u001b[1;33m\u001b[0m\u001b[0m\n\u001b[0;32m    642\u001b[0m             \u001b[1;32melse\u001b[0m\u001b[1;33m:\u001b[0m\u001b[1;33m\u001b[0m\u001b[0m\n\u001b[1;32m--> 643\u001b[1;33m                 \u001b[0mv\u001b[0m \u001b[1;33m=\u001b[0m \u001b[0mself\u001b[0m\u001b[1;33m.\u001b[0m\u001b[0m_sslobj\u001b[0m\u001b[1;33m.\u001b[0m\u001b[0mread\u001b[0m\u001b[1;33m(\u001b[0m\u001b[0mlen\u001b[0m\u001b[1;33m)\u001b[0m\u001b[1;33m\u001b[0m\u001b[0m\n\u001b[0m\u001b[0;32m    644\u001b[0m             \u001b[1;32mreturn\u001b[0m \u001b[0mv\u001b[0m\u001b[1;33m\u001b[0m\u001b[0m\n\u001b[0;32m    645\u001b[0m         \u001b[1;32mexcept\u001b[0m \u001b[0mSSLError\u001b[0m \u001b[1;32mas\u001b[0m \u001b[0mx\u001b[0m\u001b[1;33m:\u001b[0m\u001b[1;33m\u001b[0m\u001b[0m\n",
      "\u001b[1;31mKeyboardInterrupt\u001b[0m: "
     ]
    }
   ],
   "source": [
    "# Retrieve most recent 20 reviews for each restaurant (date, rating, review content)\n",
    "\n",
    "for i in restaurantsDF['id'].values:\n",
    "    try:\n",
    "#         filename = \"review\" + str(i) + \".txt\"\n",
    "#         f = open(filename,'w')\n",
    "        data = {\n",
    "            'review':[],\n",
    "            'rating':[],\n",
    "            'date':[], \n",
    "            'id':[]\n",
    "            }\n",
    "\n",
    "        r = requests.get(restaurantsDF['url'][i-1])\n",
    "        soup = BeautifulSoup(r.content, \"lxml\")  \n",
    "        \n",
    "        for (idx, data) in enumerate(soup.find_all([\"div\"], {\"class\":\"review-content\"})):\n",
    "            \n",
    "            # find the rating\n",
    "            for rating in data.find_all([\"div\"], {\"class\":\"rating-very-large\"}):\n",
    "                data['ratings'] += [int(rating.find_all(\"i\")[0][\"class\"][1][-1])]\n",
    "#                 print int(rating.find_all(\"i\")[0][\"class\"][1][-1])\n",
    "#                 f.write(str(rating.find_all(\"i\")[0][\"class\"][1][-1]))\n",
    "#                 f.write(\"\\n\")\n",
    "                pass\n",
    "\n",
    "            # find review\n",
    "            for review in data.find_all(\"p\"):\n",
    "                data['reviews'] += [review.text]\n",
    "#                 print review.text\n",
    "#                 f.write(review.text.encode('utf-8'))\n",
    "#                 f.write(\"\\n\")\n",
    "                pass\n",
    "            \n",
    "            # find rating date\n",
    "            for date in data.find_all(\"span\", {\"class\":\"rating-qualifier\"}):\n",
    "                print date.text.strip()[0:10].replace(\" \",\"\").replace(\"\\n\", \"\")\n",
    "#                 data['dates'] += [date.text.strip()[0:10].replace(\" \",\"\").replace(\"\\n\", \"\")]\n",
    "#                 f.write(date.text.strip()[0:10].replace(\" \",\"\").replace(\"\\n\", \"\"))\n",
    "#                 f.write(\"\\n\")\n",
    "                pass\n",
    "        f.close() \n",
    "   \n",
    "    except Exception as e:\n",
    "        print i,\":\", e"
   ]
  },
  {
   "cell_type": "markdown",
   "metadata": {
    "button": false,
    "deletable": true,
    "focus": false,
    "id": "34070e89-9521-4b45-90c8-57a6599aac68",
    "new_sheet": false,
    "run_control": {
     "read_only": false
    }
   },
   "source": [
    "### Make sure you have at least 1000 rows before continuing."
   ]
  },
  {
   "cell_type": "markdown",
   "metadata": {
    "button": false,
    "deletable": true,
    "focus": false,
    "id": "e8beed7c-3e42-40c0-810f-5f67f8f885a0",
    "new_sheet": false,
    "run_control": {
     "read_only": false
    }
   },
   "source": [
    "#### Clean up / standardize your data here\n",
    "\n",
    "- Dates converted to correct format\n",
    "- Remove dollar signs, spaces, periods\n",
    "- etc"
   ]
  },
  {
   "cell_type": "markdown",
   "metadata": {
    "button": false,
    "deletable": true,
    "focus": false,
    "id": "20339c09-5032-4e27-91be-286e9b46cd13",
    "new_sheet": false,
    "run_control": {
     "read_only": false
    }
   },
   "source": [
    "### Create a dataframe to compile the results of your data cleaning."
   ]
  },
  {
   "cell_type": "code",
   "execution_count": 12,
   "metadata": {
    "collapsed": false,
    "run_control": {}
   },
   "outputs": [],
   "source": [
    "# Read all the scraped data from txt files into a list of data frames: RestaurantList\n",
    "RestaurantList = []\n",
    "\n",
    "for y in restaurantsDF['id'].values:\n",
    "    data = {\n",
    "            'review':[],\n",
    "            'rating':[],\n",
    "            'date':[], \n",
    "            'id':[]\n",
    "            }\n",
    "    filename = 'review' + str(y) + '.txt'\n",
    "    text_file = open(filename, \"r\")\n",
    "    lines = text_file.readlines()\n",
    "    for i in range(0, len(lines)):\n",
    "        if (i%3 == 0):\n",
    "            data['rating'] += [int(lines[i].replace(\"\\n\", \"\"))]\n",
    "        elif i%3 == 1:\n",
    "            data['review'] += [lines[i].replace(\"\\n\", \"\")]\n",
    "        else:\n",
    "            data['date'] += [lines[i].replace(\"\\n\", \"\")]\n",
    "    data['id'] = y\n",
    "    text_file.close()\n",
    "    RestaurantList += [pd.DataFrame(data)]\n",
    "    \n",
    "# Combine all the review data into one data frame ReviewsDF\n",
    "ReviewsDF = pd.DataFrame(columns = RestaurantList[0].columns.values)\n",
    "for i in range(0, len(RestaurantList)):\n",
    "    ReviewsDF = pd.concat((ReviewsDF, RestaurantList[i]), axis = 0)\n",
    "\n",
    "# Join the Reviews dataframe and Restaurants Data Frame together by Restaurant ID\n",
    "dataDF = pd.merge(ReviewsDF, restaurantsDF, on = 'id', how = 'inner')\n",
    "columnsSorted = ['id', 'name', 'url', 'address', 'rating', 'date', 'review']\n",
    "dataDF = dataDF[columnsSorted]\n",
    "\n",
    "dataDF['date'] = pd.to_datetime(dataDF[\"date\"], format=\"%m/%d/%Y\")\n",
    "dataDF['year'] = dataDF['date'].dt.year\n",
    "dataDF['month'] = dataDF['date'].dt.month"
   ]
  },
  {
   "cell_type": "code",
   "execution_count": 13,
   "metadata": {
    "collapsed": false
   },
   "outputs": [
    {
     "name": "stdout",
     "output_type": "stream",
     "text": [
      "1216\n"
     ]
    }
   ],
   "source": [
    "# Make sure our dataset has more than 1000 rows\n",
    "print len(dataDF)"
   ]
  },
  {
   "cell_type": "markdown",
   "metadata": {},
   "source": [
    "## Exploratory Data Analysis"
   ]
  },
  {
   "cell_type": "code",
   "execution_count": 14,
   "metadata": {
    "collapsed": false
   },
   "outputs": [
    {
     "data": {
      "text/plain": [
       "<matplotlib.axes._subplots.AxesSubplot at 0xaf2dfd0>"
      ]
     },
     "execution_count": 14,
     "metadata": {},
     "output_type": "execute_result"
    },
    {
     "data": {
      "image/png": "[encoded data removed]",
      "text/plain": [
       "<matplotlib.figure.Figure at 0xaf2d470>"
      ]
     },
     "metadata": {},
     "output_type": "display_data"
    }
   ],
   "source": [
    "# distribution of ratings\n",
    "# customers tend to leave more positive reviews \n",
    "dataDF['rating'].hist(cumulative=False, normed=1, bins=50)"
   ]
  },
  {
   "cell_type": "code",
   "execution_count": 15,
   "metadata": {
    "collapsed": false
   },
   "outputs": [
    {
     "data": {
      "text/html": [
       "<div>\n",
       "<table border=\"1\" class=\"dataframe\">\n",
       "  <thead>\n",
       "    <tr style=\"text-align: right;\">\n",
       "      <th></th>\n",
       "      <th></th>\n",
       "      <th>rating</th>\n",
       "    </tr>\n",
       "    <tr>\n",
       "      <th>name</th>\n",
       "      <th>address</th>\n",
       "      <th></th>\n",
       "    </tr>\n",
       "  </thead>\n",
       "  <tbody>\n",
       "    <tr>\n",
       "      <th>Sushi Kashiba</th>\n",
       "      <th>86 Pine StSeattle, WA 98101</th>\n",
       "      <td>4.650000</td>\n",
       "    </tr>\n",
       "    <tr>\n",
       "      <th>Wataru</th>\n",
       "      <th>2400 NE 65th St.Seattle, WA 98115</th>\n",
       "      <td>4.619048</td>\n",
       "    </tr>\n",
       "    <tr>\n",
       "      <th>Aji Sushi &amp; Grill</th>\n",
       "      <th>1052 NE Park DrIssaquah, WA 98029</th>\n",
       "      <td>4.571429</td>\n",
       "    </tr>\n",
       "    <tr>\n",
       "      <th>Rolls and Rolls Plus Sushi</th>\n",
       "      <th>11011 NE 12th StBellevue, WA 98004</th>\n",
       "      <td>4.500000</td>\n",
       "    </tr>\n",
       "    <tr>\n",
       "      <th>Musashi’s</th>\n",
       "      <th>3720 Factoria Blvd SEBellevue, WA 98006</th>\n",
       "      <td>4.476190</td>\n",
       "    </tr>\n",
       "    <tr>\n",
       "      <th>Sandwich House Tres</th>\n",
       "      <th>1502 145th Pl SEBellevue, WA 98007</th>\n",
       "      <td>4.428571</td>\n",
       "    </tr>\n",
       "    <tr>\n",
       "      <th>Market Fresh</th>\n",
       "      <th>601 108th Ave NEBellevue, WA 98004</th>\n",
       "      <td>4.380952</td>\n",
       "    </tr>\n",
       "    <tr>\n",
       "      <th>Maneki</th>\n",
       "      <th>304 6th Ave SSeattle, WA 98104</th>\n",
       "      <td>4.350000</td>\n",
       "    </tr>\n",
       "    <tr>\n",
       "      <th>Suika Seattle</th>\n",
       "      <th>611 E Pine StSeattle, WA 98122</th>\n",
       "      <td>4.350000</td>\n",
       "    </tr>\n",
       "    <tr>\n",
       "      <th>Zushi Sushi</th>\n",
       "      <th>5614 E Lake Sammamish PkwyIssaquah, WA 98029</th>\n",
       "      <td>4.300000</td>\n",
       "    </tr>\n",
       "  </tbody>\n",
       "</table>\n",
       "</div>"
      ],
      "text/plain": [
       "                                                                           rating\n",
       "name                       address                                               \n",
       "Sushi Kashiba              86 Pine StSeattle, WA 98101                   4.650000\n",
       "Wataru                     2400 NE 65th St.Seattle, WA 98115             4.619048\n",
       "Aji Sushi & Grill          1052 NE Park DrIssaquah, WA 98029             4.571429\n",
       "Rolls and Rolls Plus Sushi 11011 NE 12th StBellevue, WA 98004            4.500000\n",
       "Musashi’s                  3720 Factoria Blvd SEBellevue, WA 98006       4.476190\n",
       "Sandwich House Tres        1502 145th Pl SEBellevue, WA 98007            4.428571\n",
       "Market Fresh               601 108th Ave NEBellevue, WA 98004            4.380952\n",
       "Maneki                     304 6th Ave SSeattle, WA 98104                4.350000\n",
       "Suika Seattle              611 E Pine StSeattle, WA 98122                4.350000\n",
       "Zushi Sushi                5614 E Lake Sammamish PkwyIssaquah, WA 98029  4.300000"
      ]
     },
     "execution_count": 15,
     "metadata": {},
     "output_type": "execute_result"
    }
   ],
   "source": [
    "# Find the Top 10 best rated Sushi places\n",
    "pd.pivot_table(dataDF, index = ['name', 'address'], values = ['rating'], aggfunc = np.mean).sort_values(by = 'rating', ascending = False)[0:10]"
   ]
  },
  {
   "cell_type": "code",
   "execution_count": 83,
   "metadata": {
    "collapsed": false
   },
   "outputs": [
    {
     "data": {
      "text/plain": [
       "1    0.816406\n",
       "0    0.183594\n",
       "Name: sentiment, dtype: float64"
      ]
     },
     "execution_count": 83,
     "metadata": {},
     "output_type": "execute_result"
    }
   ],
   "source": [
    "# The response variable column seems quite biased\n",
    "dataDF['sentiment'].value_counts()/len(dataDF['sentiment'])"
   ]
  },
  {
   "cell_type": "markdown",
   "metadata": {
    "button": false,
    "deletable": true,
    "focus": false,
    "id": "ff98ce64-78a7-441f-a675-63464e32c834",
    "new_sheet": false,
    "run_control": {
     "read_only": false
    }
   },
   "source": [
    "### Manipulate the Data for Modeling"
   ]
  },
  {
   "cell_type": "code",
   "execution_count": 16,
   "metadata": {
    "button": false,
    "collapsed": false,
    "deletable": true,
    "focus": false,
    "id": "58533e57-f86b-494a-b841-e7b59c6229c6",
    "new_sheet": false,
    "run_control": {
     "read_only": false
    }
   },
   "outputs": [],
   "source": [
    "# Neutral Ratings is boring, drop them all\n",
    "dataDF = dataDF.dropna()\n",
    "dataDF = dataDF[dataDF['rating'] != 3]"
   ]
  },
  {
   "cell_type": "code",
   "execution_count": 17,
   "metadata": {
    "button": false,
    "collapsed": false,
    "deletable": true,
    "focus": false,
    "id": "783fd153-28ac-47ab-bfca-27e7c1de95b4",
    "new_sheet": false,
    "run_control": {
     "read_only": false
    }
   },
   "outputs": [],
   "source": [
    "## Backup my data frame\n",
    "dataDFBackup = dataDF"
   ]
  },
  {
   "cell_type": "code",
   "execution_count": 18,
   "metadata": {
    "collapsed": true
   },
   "outputs": [],
   "source": [
    "dataDF = dataDFBackup"
   ]
  },
  {
   "cell_type": "code",
   "execution_count": 19,
   "metadata": {
    "collapsed": true
   },
   "outputs": [],
   "source": [
    "# Assign the sentiment lable column: 1 if the rating is higher than 3 and 0 if less than 3\n",
    "dataDF['sentiment'] = pd.Series([1 if x >= 4 else 0 for x in dataDF['rating']], index = dataDF.index)"
   ]
  },
  {
   "cell_type": "code",
   "execution_count": 20,
   "metadata": {
    "collapsed": false
   },
   "outputs": [],
   "source": [
    "# Build a word_count function that counts the non-trivial words in each review\n",
    "import re\n",
    "rejects = ['the','and','to','a','this','is','on','has','new','in', 'there', 'here', 'had', 'food', 'sushi',\n",
    "           'it', 'have', 'was','but','i','about','be','not','if','at', 'we', 'you', 'your', 'they', 'my', \n",
    "           'its', 'it\\'s', 'our', 'which', 'also', 'their', 'when', 'some',\n",
    "           'an','of','that','by','from','as','with','for','are','were','or', '\\xc2\\xa0', 'sushi', 'time'\n",
    "          ]\n",
    "\n",
    "rejects += [str(x) for x in range(10)]\n",
    "\n",
    "def replaceText(stringy):\n",
    "    if stringy.__class__.__name__ in  ['str', 'unicode']:\n",
    "        new_stringy = re.sub(\"[^0-9a-zA-Z']\", \"\",stringy)\n",
    "        if not new_stringy:\n",
    "            return ''\n",
    "        return str(new_stringy)\n",
    "    return stringy\n",
    "\n",
    "def word_counts(text):\n",
    "    a =  ' '.join([replaceText(item).lower() for item in text.split(\" \") if (replaceText(item)!='') & ( len(replaceText(item))!=1 )]).strip()\n",
    "    if a!= \"\":\n",
    "        return pd.Series(a.split(\" \")).value_counts().to_dict()\n",
    "    else:\n",
    "        return {}\n",
    "    \n",
    "def word_non_trivial_counts(text):\n",
    "    a =  ' '.join([replaceText(item).lower() for item in text.split(\" \") if ( replaceText(item).lower() not in rejects) & (replaceText(item)!='') & ( len(replaceText(item))!=1 )]).strip()\n",
    "    if a!= \"\":\n",
    "        return pd.Series(a.split(\" \")).value_counts().to_dict()\n",
    "    else:\n",
    "        return {}"
   ]
  },
  {
   "cell_type": "code",
   "execution_count": 21,
   "metadata": {
    "collapsed": false
   },
   "outputs": [],
   "source": [
    "# Identify the positive and negative keywords as features\n",
    "positiveReviews = ' '.join([x for x in dataDF[dataDF['rating'] >= 4]['review'] ])\n",
    "negativeReviews = ' '.join([x for x in dataDF[dataDF['rating'] <= 2]['review'] ])\n",
    "\n",
    "positiveReviewWordCount = pd.Series(word_non_trivial_counts(positiveReviews)).sort_values(ascending = False)\n",
    "negativeReviewWordCount = pd.Series(word_non_trivial_counts(negativeReviews)).sort_values(ascending = False)\n",
    "\n",
    "f = open('PositiveCounts.txt','w')\n",
    "for index, value in positiveReviewWordCount.iteritems():\n",
    "    f.write(str(index) + \",\" + str(value) + \"\\n\")\n",
    "f.close()\n",
    "\n",
    "f = open('NegativeCounts.txt','w')\n",
    "for index, value in negativeReviewWordCount.iteritems():\n",
    "    f.write(str(index) + \",\" + str(value) + \"\\n\")\n",
    "f.close()"
   ]
  },
  {
   "cell_type": "code",
   "execution_count": 22,
   "metadata": {
    "collapsed": false
   },
   "outputs": [],
   "source": [
    "# Identify the keywords for feature selection\n",
    "# I eyeballed the two output files and decided on the following keywords\n",
    "negatives = ['don\\'t', 'too', 'even', 'no', 'never', 'sad', 'bad', 'wasn\\'t']\n",
    "positives = ['good', 'great', 'like', 'love', 'happy', 'favorite']"
   ]
  },
  {
   "cell_type": "code",
   "execution_count": 23,
   "metadata": {
    "collapsed": true
   },
   "outputs": [],
   "source": [
    "# add a word count column for each review\n",
    "dataDF['word_counts'] = pd.Series([word_counts(x) for x in dataDF['review']], index = dataDF.index)"
   ]
  },
  {
   "cell_type": "code",
   "execution_count": 85,
   "metadata": {
    "collapsed": false
   },
   "outputs": [
    {
     "data": {
      "text/html": [
       "<div>\n",
       "<table border=\"1\" class=\"dataframe\">\n",
       "  <thead>\n",
       "    <tr style=\"text-align: right;\">\n",
       "      <th></th>\n",
       "      <th>review</th>\n",
       "      <th>word_counts</th>\n",
       "    </tr>\n",
       "  </thead>\n",
       "  <tbody>\n",
       "    <tr>\n",
       "      <th>0</th>\n",
       "      <td>This place has the b st sushi for the price.  ...</td>\n",
       "      <td>{u'just': 1, u'grade': 1, u'is': 1, u'sushi': ...</td>\n",
       "    </tr>\n",
       "    <tr>\n",
       "      <th>1</th>\n",
       "      <td>fresh food and good deal sushi! Chirashi bowl ...</td>\n",
       "      <td>{u'and': 2, u'want': 1, u'deal': 1, u'is': 1, ...</td>\n",
       "    </tr>\n",
       "  </tbody>\n",
       "</table>\n",
       "</div>"
      ],
      "text/plain": [
       "                                              review  \\\n",
       "0  This place has the b st sushi for the price.  ...   \n",
       "1  fresh food and good deal sushi! Chirashi bowl ...   \n",
       "\n",
       "                                         word_counts  \n",
       "0  {u'just': 1, u'grade': 1, u'is': 1, u'sushi': ...  \n",
       "1  {u'and': 2, u'want': 1, u'deal': 1, u'is': 1, ...  "
      ]
     },
     "execution_count": 85,
     "metadata": {},
     "output_type": "execute_result"
    }
   ],
   "source": [
    "dataDF[['review', 'word_counts']].head(2)"
   ]
  },
  {
   "cell_type": "code",
   "execution_count": 24,
   "metadata": {
    "collapsed": false
   },
   "outputs": [],
   "source": [
    "# Add dummy variable columns as features\n",
    "for pos in positives:\n",
    "    dataDF[pos] = pd.Series([1 if pos in x.keys() else 0 for x in dataDF['word_counts']], index = dataDF.index)\n",
    "for neg in negatives:\n",
    "    dataDF[neg] = pd.Series([1 if neg in x.keys() else 0 for x in dataDF['word_counts']], index = dataDF.index)\n",
    "    \n",
    "# Add year and month as features as well\n",
    "for year in dataDF['year']:\n",
    "    dataDF[str(year)] = pd.Series([1 if x == year else 0 for x in dataDF['year']], index = dataDF.index)\n",
    "for month in dataDF['month']:\n",
    "    dataDF[str(month)] = pd.Series([1 if x == month else 0 for x in dataDF['month']], index = dataDF.index)"
   ]
  },
  {
   "cell_type": "markdown",
   "metadata": {},
   "source": [
    "## Logistic Regression Models"
   ]
  },
  {
   "cell_type": "markdown",
   "metadata": {},
   "source": [
    "### import packages"
   ]
  },
  {
   "cell_type": "code",
   "execution_count": 25,
   "metadata": {
    "collapsed": false
   },
   "outputs": [
    {
     "name": "stderr",
     "output_type": "stream",
     "text": [
      "C:\\Users\\jason\\Anaconda2\\lib\\site-packages\\sklearn\\cross_validation.py:44: DeprecationWarning: This module was deprecated in version 0.18 in favor of the model_selection module into which all the refactored classes and functions are moved. Also note that the interface of the new CV iterators are different from that of this module. This module will be removed in 0.20.\n",
      "  \"This module will be removed in 0.20.\", DeprecationWarning)\n",
      "C:\\Users\\jason\\Anaconda2\\lib\\site-packages\\sklearn\\grid_search.py:43: DeprecationWarning: This module was deprecated in version 0.18 in favor of the model_selection module into which all the refactored classes and functions are moved. This module will be removed in 0.20.\n",
      "  DeprecationWarning)\n"
     ]
    }
   ],
   "source": [
    "from sklearn.metrics import classification_report, confusion_matrix, accuracy_score\n",
    "from sklearn.cross_validation import train_test_split, StratifiedShuffleSplit\n",
    "from sklearn.linear_model import LogisticRegression, LogisticRegressionCV\n",
    "from sklearn.grid_search import GridSearchCV\n",
    "from sklearn.metrics import roc_curve, auc\n",
    "import statsmodels.api as sm"
   ]
  },
  {
   "cell_type": "markdown",
   "metadata": {},
   "source": [
    "### Option 1: Features include all keywords, month and year"
   ]
  },
  {
   "cell_type": "code",
   "execution_count": 74,
   "metadata": {
    "collapsed": true
   },
   "outputs": [],
   "source": [
    "# Define feature and responsible variables\n",
    "Y = dataDF['sentiment']\n",
    "X = dataDF[dataDF.columns.values[11:45]]"
   ]
  },
  {
   "cell_type": "code",
   "execution_count": 75,
   "metadata": {
    "collapsed": false
   },
   "outputs": [
    {
     "name": "stdout",
     "output_type": "stream",
     "text": [
      "Fitting 5 folds for each of 24 candidates, totalling 120 fits\n"
     ]
    },
    {
     "name": "stderr",
     "output_type": "stream",
     "text": [
      "[Parallel(n_jobs=1)]: Done 120 out of 120 | elapsed:    0.6s finished\n"
     ]
    },
    {
     "name": "stdout",
     "output_type": "stream",
     "text": [
      "             precision    recall  f1-score   support\n",
      "\n",
      "          0       0.61      0.18      0.27        62\n",
      "          1       0.84      0.97      0.90       276\n",
      "\n",
      "avg / total       0.80      0.83      0.79       338\n",
      "\n",
      "\n",
      "Area Under the Curve is: 0.70696002805\n"
     ]
    },
    {
     "data": {
      "image/png": "[encoded data removed]",
      "text/plain": [
       "<matplotlib.figure.Figure at 0x11279a58>"
      ]
     },
     "metadata": {},
     "output_type": "display_data"
    }
   ],
   "source": [
    "def modelFunc(X, Y): \n",
    "    # Perform train-test split\n",
    "    X_train, X_test, Y_train, Y_test = train_test_split(X, Y.values, \n",
    "                                                       test_size=0.33, stratify=Y.values,\n",
    "                                                       random_state=77)\n",
    "\n",
    "    # run Classification with gridsearch using GridSearchCV and 5 folds\n",
    "    logreg = LogisticRegression()\n",
    "    C_vals = [0.0001, 0.001, 0.01, 0.1, 0.5, 0.75, 1.0, 2.5, 5.0, 10.0, 100.0, 1000.0]\n",
    "    penalties = ['l1','l2']\n",
    "\n",
    "    gs = GridSearchCV(logreg, {'penalty':penalties, 'C':C_vals}, verbose=True, cv=5, scoring='f1_macro')\n",
    "    gs.fit(X_train, Y_train)\n",
    "\n",
    "    # use this parameter to .fit, .predict, and print a classification_report for our X and Y\n",
    "    gs_logreg = LogisticRegression(C=gs.best_params_['C'], penalty=gs.best_params_['penalty'], solver='liblinear')\n",
    "    gs_logreg.fit(X_train, Y_train)\n",
    "    Y_ = gs_logreg.predict(X_test)\n",
    "    print(classification_report(Y_test, Y_)), \"\\n\"\n",
    "\n",
    "\n",
    "    # run logistic regression to with the same parameters to predict the probability of being a Positive Review\n",
    "    logreg = LogisticRegression(C=gs.best_params_['C'], penalty=gs.best_params_['penalty'], solver='liblinear')\n",
    "    logreg.fit(X_train, Y_train)\n",
    "    # Y_pred = logreg.predict(X_test)\n",
    "    Y_score = logreg.decision_function(X_test)\n",
    "    Y_proba_score = logreg.predict_proba(X_test)\n",
    "\n",
    "    # For class 1, find the area under the curve\n",
    "    FPR, TPR, thresholds = roc_curve(Y_test, Y_proba_score[:,1])\n",
    "\n",
    "    ROC_AUC = auc(FPR, TPR)\n",
    "    print \"Area Under the Curve is:\", ROC_AUC\n",
    "\n",
    "    # Plot of a ROC curve for class 1 (positive review)\n",
    "    plt.figure(figsize=[7,7])\n",
    "    plt.plot(FPR, TPR, label='ROC curve (area = %0.4f)' % ROC_AUC, linewidth=4)\n",
    "    plt.plot([0, 1], [0, 1], 'k--', linewidth=4)\n",
    "    plt.xlim([0.0, 1.0])\n",
    "    plt.ylim([0.0, 1.05])\n",
    "    plt.xlabel('False Positive Rate', fontsize=18)\n",
    "    plt.ylabel('True Positive Rate', fontsize=18)\n",
    "    plt.title('ROC for Restaurant Review Prediction', fontsize=18)\n",
    "    plt.legend(loc=\"lower right\")\n",
    "    plt.show()\n",
    "\n",
    "modelFunc(X,Y)"
   ]
  },
  {
   "cell_type": "code",
   "execution_count": 28,
   "metadata": {
    "collapsed": true
   },
   "outputs": [
    {
     "data": {
      "text/plain": [
       "sentiment    1.000000\n",
       "no           0.165527\n",
       "great        0.159488\n",
       "bad          0.154418\n",
       "sad          0.139664\n",
       "wasn't       0.130677\n",
       "favorite     0.125847\n",
       "even         0.120592\n",
       "never        0.114750\n",
       "love         0.097814\n",
       "happy        0.071611\n",
       "6            0.068731\n",
       "12           0.066407\n",
       "good         0.062232\n",
       "don't        0.060681\n",
       "1            0.043742\n",
       "11           0.037511\n",
       "too          0.037005\n",
       "3            0.031814\n",
       "2            0.031688\n",
       "7            0.028546\n",
       "2013         0.026162\n",
       "2014         0.019668\n",
       "5            0.017333\n",
       "9            0.017271\n",
       "2008         0.014826\n",
       "2010         0.014826\n",
       "4            0.013903\n",
       "2015         0.013776\n",
       "2012         0.008730\n",
       "8            0.007760\n",
       "10           0.005559\n",
       "2011         0.003357\n",
       "2016         0.001880\n",
       "like         0.000918\n",
       "Name: sentiment, dtype: float64"
      ]
     },
     "execution_count": 28,
     "metadata": {},
     "output_type": "execute_result"
    }
   ],
   "source": [
    "# Find the Correlation Coefficients and sort by absolute value\n",
    "# key words are obviously more correlated to the sentiment as expected\n",
    "a = list(dataDF.columns.values[11:45])\n",
    "a.extend(['sentiment'])\n",
    "np.abs(dataDF[a].corr()['sentiment']).sort_values(ascending = False)"
   ]
  },
  {
   "cell_type": "code",
   "execution_count": null,
   "metadata": {
    "collapsed": true
   },
   "outputs": [],
   "source": []
  },
  {
   "cell_type": "markdown",
   "metadata": {},
   "source": [
    "### Option 2: Only use keyword features, excluding year and month\n",
    "#### model performance deteriorated"
   ]
  },
  {
   "cell_type": "code",
   "execution_count": 76,
   "metadata": {
    "collapsed": true
   },
   "outputs": [],
   "source": [
    "# Define feature and responsible variables\n",
    "Y = dataDF['sentiment']\n",
    "X = dataDF[dataDF.columns.values[11:25]]"
   ]
  },
  {
   "cell_type": "code",
   "execution_count": 77,
   "metadata": {
    "collapsed": false
   },
   "outputs": [
    {
     "name": "stdout",
     "output_type": "stream",
     "text": [
      "Fitting 5 folds for each of 24 candidates, totalling 120 fits\n",
      "             precision    recall  f1-score   support\n",
      "\n",
      "          0       0.76      0.21      0.33        62\n",
      "          1       0.85      0.99      0.91       276\n",
      "\n",
      "avg / total       0.83      0.84      0.80       338\n",
      "\n",
      "\n",
      "Area Under the Curve is: 0.712920757363\n"
     ]
    },
    {
     "name": "stderr",
     "output_type": "stream",
     "text": [
      "[Parallel(n_jobs=1)]: Done 120 out of 120 | elapsed:    0.4s finished\n"
     ]
    },
    {
     "data": {
      "image/png": "[encoded data removed]",
      "text/plain": [
       "<matplotlib.figure.Figure at 0x11435d30>"
      ]
     },
     "metadata": {},
     "output_type": "display_data"
    }
   ],
   "source": [
    "modelFunc(X,Y)"
   ]
  },
  {
   "cell_type": "markdown",
   "metadata": {},
   "source": [
    "### Option 3: Add more negative keywords as features to increase the recall of negatives"
   ]
  },
  {
   "cell_type": "code",
   "execution_count": 31,
   "metadata": {
    "collapsed": false
   },
   "outputs": [],
   "source": [
    "# Add more negative keywords as features\n",
    "negativesAppend = ['wrong', 'sorry', 'awful', 'didn\\'t', 'disappointed', 'however', 'worst', 'terrible', 'slow']\n",
    "for neg in negativesAppend:\n",
    "    dataDF[neg] = pd.Series([1 if neg in x.keys() else 0 for x in dataDF['word_counts']], index = dataDF.index)"
   ]
  },
  {
   "cell_type": "code",
   "execution_count": 79,
   "metadata": {
    "collapsed": true
   },
   "outputs": [],
   "source": [
    "# Define feature and responsible variables\n",
    "Y = dataDF['sentiment']\n",
    "X = dataDF[dataDF.columns.values[11:]]"
   ]
  },
  {
   "cell_type": "code",
   "execution_count": 80,
   "metadata": {
    "collapsed": false
   },
   "outputs": [
    {
     "name": "stdout",
     "output_type": "stream",
     "text": [
      "Fitting 5 folds for each of 24 candidates, totalling 120 fits\n",
      "             precision    recall  f1-score   support\n",
      "\n",
      "          0       0.58      0.31      0.40        62\n",
      "          1       0.86      0.95      0.90       276\n",
      "\n",
      "avg / total       0.81      0.83      0.81       338\n",
      "\n",
      "\n",
      "Area Under the Curve is: 0.75087657784\n"
     ]
    },
    {
     "name": "stderr",
     "output_type": "stream",
     "text": [
      "[Parallel(n_jobs=1)]: Done 120 out of 120 | elapsed:    1.1s finished\n"
     ]
    },
    {
     "data": {
      "image/png": "[encoded data removed]",
      "text/plain": [
       "<matplotlib.figure.Figure at 0x1157c470>"
      ]
     },
     "metadata": {},
     "output_type": "display_data"
    }
   ],
   "source": [
    "modelFunc(X,Y)"
   ]
  },
  {
   "cell_type": "code",
   "execution_count": null,
   "metadata": {
    "collapsed": true
   },
   "outputs": [],
   "source": []
  },
  {
   "cell_type": "markdown",
   "metadata": {},
   "source": [
    "## Best and worst reviews based on our prediction"
   ]
  },
  {
   "cell_type": "code",
   "execution_count": 56,
   "metadata": {
    "collapsed": false
   },
   "outputs": [
    {
     "name": "stdout",
     "output_type": "stream",
     "text": [
      "Fitting 5 folds for each of 24 candidates, totalling 120 fits\n"
     ]
    },
    {
     "name": "stderr",
     "output_type": "stream",
     "text": [
      "[Parallel(n_jobs=1)]: Done 120 out of 120 | elapsed:    0.6s finished\n"
     ]
    }
   ],
   "source": [
    "Y = dataDF['sentiment']\n",
    "X = dataDF[dataDF.columns.values[11:]]\n",
    "\n",
    "X_train, X_test, Y_train, Y_test = train_test_split(X, Y.values, \n",
    "                                                   test_size=0.33, stratify=Y.values,\n",
    "                                                   random_state=77)\n",
    "\n",
    "# run Classification with gridsearch using GridSearchCV and 5 folds\n",
    "logreg = LogisticRegression()\n",
    "C_vals = [0.0001, 0.001, 0.01, 0.1, 0.5, 0.75, 1.0, 2.5, 5.0, 10.0, 100.0, 1000.0]\n",
    "penalties = ['l1','l2']\n",
    "\n",
    "gs = GridSearchCV(logreg, {'penalty':penalties, 'C':C_vals}, verbose=True, cv=5, scoring='f1_macro')\n",
    "gs.fit(X_train, Y_train)\n",
    "\n",
    "# use this parameter to .fit, .predict, and print a classification_report for our X and Y\n",
    "gs_logreg = LogisticRegression(C=gs.best_params_['C'], penalty=gs.best_params_['penalty'], solver='liblinear')\n",
    "gs_logreg.fit(X_train, Y_train)\n",
    "Y_ = gs_logreg.predict(X_test)\n",
    "\n",
    "# run logistic regression to with the same parameters to predict the probability of being a Positive Review\n",
    "logreg = LogisticRegression(C=gs.best_params_['C'], penalty=gs.best_params_['penalty'], solver='liblinear')\n",
    "logreg.fit(X_train, Y_train)\n",
    "# Y_pred = logreg.predict(X_test)\n",
    "Y_score = logreg.decision_function(X_test)\n",
    "Y_proba_score = logreg.predict_proba(X_test)"
   ]
  },
  {
   "cell_type": "code",
   "execution_count": 57,
   "metadata": {
    "collapsed": true
   },
   "outputs": [],
   "source": [
    "# Append the predicted score to each row\n",
    "dataDF['predictedScore'] = pd.Series(logreg.predict_proba(X)[:,1], index = dataDF.index)"
   ]
  },
  {
   "cell_type": "code",
   "execution_count": 58,
   "metadata": {
    "collapsed": false
   },
   "outputs": [
    {
     "data": {
      "text/html": [
       "<div>\n",
       "<table border=\"1\" class=\"dataframe\">\n",
       "  <thead>\n",
       "    <tr style=\"text-align: right;\">\n",
       "      <th></th>\n",
       "      <th>id</th>\n",
       "      <th>name</th>\n",
       "      <th>url</th>\n",
       "      <th>address</th>\n",
       "      <th>rating</th>\n",
       "      <th>date</th>\n",
       "      <th>review</th>\n",
       "      <th>year</th>\n",
       "      <th>month</th>\n",
       "      <th>sentiment</th>\n",
       "      <th>...</th>\n",
       "      <th>sorry</th>\n",
       "      <th>awful</th>\n",
       "      <th>didn't</th>\n",
       "      <th>disappointed</th>\n",
       "      <th>however</th>\n",
       "      <th>worst</th>\n",
       "      <th>terrible</th>\n",
       "      <th>slow</th>\n",
       "      <th>reviewLength</th>\n",
       "      <th>predictedScore</th>\n",
       "    </tr>\n",
       "  </thead>\n",
       "  <tbody>\n",
       "    <tr>\n",
       "      <th>964</th>\n",
       "      <td>48.0</td>\n",
       "      <td>Japonessa</td>\n",
       "      <td>https://www.yelp.com/biz/japonessa-seattle?hri...</td>\n",
       "      <td>1400 1st AveSeattle, WA 98101</td>\n",
       "      <td>4.0</td>\n",
       "      <td>2016-10-15</td>\n",
       "      <td>Visiting Seattle and we had to stop in for the...</td>\n",
       "      <td>2016</td>\n",
       "      <td>10</td>\n",
       "      <td>1</td>\n",
       "      <td>...</td>\n",
       "      <td>0</td>\n",
       "      <td>0</td>\n",
       "      <td>0</td>\n",
       "      <td>0</td>\n",
       "      <td>0</td>\n",
       "      <td>0</td>\n",
       "      <td>0</td>\n",
       "      <td>0</td>\n",
       "      <td>0.168367</td>\n",
       "      <td>0.999030</td>\n",
       "    </tr>\n",
       "    <tr>\n",
       "      <th>1156</th>\n",
       "      <td>58.0</td>\n",
       "      <td>Umi Sake House</td>\n",
       "      <td>https://www.yelp.com/biz/umi-sake-house-seattl...</td>\n",
       "      <td>2230 1st AveSeattle, WA 98121</td>\n",
       "      <td>5.0</td>\n",
       "      <td>2016-10-04</td>\n",
       "      <td>Loved this place! Got there right at 4pm when ...</td>\n",
       "      <td>2016</td>\n",
       "      <td>10</td>\n",
       "      <td>1</td>\n",
       "      <td>...</td>\n",
       "      <td>0</td>\n",
       "      <td>0</td>\n",
       "      <td>0</td>\n",
       "      <td>0</td>\n",
       "      <td>0</td>\n",
       "      <td>0</td>\n",
       "      <td>0</td>\n",
       "      <td>0</td>\n",
       "      <td>0.213010</td>\n",
       "      <td>0.998560</td>\n",
       "    </tr>\n",
       "    <tr>\n",
       "      <th>882</th>\n",
       "      <td>44.0</td>\n",
       "      <td>Jae’s Asian Bistro &amp; Sushi</td>\n",
       "      <td>https://www.yelp.com/biz/jaes-asian-bistro-and...</td>\n",
       "      <td>2801 E Madison StSeattle, WA 98112</td>\n",
       "      <td>4.0</td>\n",
       "      <td>2015-12-16</td>\n",
       "      <td>I enjoy the happy hour often.  Rolls, nigiri, ...</td>\n",
       "      <td>2015</td>\n",
       "      <td>12</td>\n",
       "      <td>1</td>\n",
       "      <td>...</td>\n",
       "      <td>0</td>\n",
       "      <td>0</td>\n",
       "      <td>0</td>\n",
       "      <td>0</td>\n",
       "      <td>0</td>\n",
       "      <td>0</td>\n",
       "      <td>0</td>\n",
       "      <td>0</td>\n",
       "      <td>0.058673</td>\n",
       "      <td>0.998454</td>\n",
       "    </tr>\n",
       "  </tbody>\n",
       "</table>\n",
       "<p>3 rows × 56 columns</p>\n",
       "</div>"
      ],
      "text/plain": [
       "        id                        name  \\\n",
       "964   48.0                   Japonessa   \n",
       "1156  58.0              Umi Sake House   \n",
       "882   44.0  Jae’s Asian Bistro & Sushi   \n",
       "\n",
       "                                                    url  \\\n",
       "964   https://www.yelp.com/biz/japonessa-seattle?hri...   \n",
       "1156  https://www.yelp.com/biz/umi-sake-house-seattl...   \n",
       "882   https://www.yelp.com/biz/jaes-asian-bistro-and...   \n",
       "\n",
       "                                 address  rating       date  \\\n",
       "964        1400 1st AveSeattle, WA 98101     4.0 2016-10-15   \n",
       "1156       2230 1st AveSeattle, WA 98121     5.0 2016-10-04   \n",
       "882   2801 E Madison StSeattle, WA 98112     4.0 2015-12-16   \n",
       "\n",
       "                                                 review  year  month  \\\n",
       "964   Visiting Seattle and we had to stop in for the...  2016     10   \n",
       "1156  Loved this place! Got there right at 4pm when ...  2016     10   \n",
       "882   I enjoy the happy hour often.  Rolls, nigiri, ...  2015     12   \n",
       "\n",
       "      sentiment       ...       sorry  awful  didn't  disappointed  however  \\\n",
       "964           1       ...           0      0       0             0        0   \n",
       "1156          1       ...           0      0       0             0        0   \n",
       "882           1       ...           0      0       0             0        0   \n",
       "\n",
       "      worst  terrible  slow  reviewLength  predictedScore  \n",
       "964       0         0     0      0.168367        0.999030  \n",
       "1156      0         0     0      0.213010        0.998560  \n",
       "882       0         0     0      0.058673        0.998454  \n",
       "\n",
       "[3 rows x 56 columns]"
      ]
     },
     "execution_count": 58,
     "metadata": {},
     "output_type": "execute_result"
    }
   ],
   "source": [
    "dataDF.sort_values(by = 'predictedScore', ascending = False).head(3)"
   ]
  },
  {
   "cell_type": "code",
   "execution_count": 254,
   "metadata": {
    "collapsed": false
   },
   "outputs": [
    {
     "data": {
      "text/plain": [
       "'Visiting Seattle and we had to stop in for their Happy Hour! We were told it would be a 30-45 min wait, but we were able to get a table in 20 (love it!) Very dim lit ambience. So snapchatting is probably not gonna happen, so just enjoy the meal. I was surprised their Happy hour last almost all day! We ordered the Seattle Crunch Roll, Wicked Sensation Roll, edamame, salmon sashimi, and a Caliente ginger chicken dish. The Seattle Crunch Roll was okay, I felt like the tempura overpowered the rest of the ingredients. We loved the wicked sensation. And the ginger chicken was a pleasant surprise. It had great flavor, but it came with 6 pieces of chips and a buttload of chicken. My favorite - Salmon sashimi. Great seafood in seattle. Thick slabs and it almost melts in your mouth! Would definitely come again!Happy Nomming,Lily'"
      ]
     },
     "execution_count": 254,
     "metadata": {},
     "output_type": "execute_result"
    }
   ],
   "source": [
    "dataDF.ix[964, 'review']"
   ]
  },
  {
   "cell_type": "code",
   "execution_count": 59,
   "metadata": {
    "collapsed": false
   },
   "outputs": [
    {
     "data": {
      "text/html": [
       "<div>\n",
       "<table border=\"1\" class=\"dataframe\">\n",
       "  <thead>\n",
       "    <tr style=\"text-align: right;\">\n",
       "      <th></th>\n",
       "      <th>id</th>\n",
       "      <th>name</th>\n",
       "      <th>url</th>\n",
       "      <th>address</th>\n",
       "      <th>rating</th>\n",
       "      <th>date</th>\n",
       "      <th>review</th>\n",
       "      <th>year</th>\n",
       "      <th>month</th>\n",
       "      <th>sentiment</th>\n",
       "      <th>...</th>\n",
       "      <th>sorry</th>\n",
       "      <th>awful</th>\n",
       "      <th>didn't</th>\n",
       "      <th>disappointed</th>\n",
       "      <th>however</th>\n",
       "      <th>worst</th>\n",
       "      <th>terrible</th>\n",
       "      <th>slow</th>\n",
       "      <th>reviewLength</th>\n",
       "      <th>predictedScore</th>\n",
       "    </tr>\n",
       "  </thead>\n",
       "  <tbody>\n",
       "    <tr>\n",
       "      <th>545</th>\n",
       "      <td>28.0</td>\n",
       "      <td>Momoya Sushi &amp; Sake House</td>\n",
       "      <td>https://www.yelp.com/biz/momoya-sushi-and-sake...</td>\n",
       "      <td>12100 NE 85th StKirkland, WA 98033</td>\n",
       "      <td>1.0</td>\n",
       "      <td>2016-06-11</td>\n",
       "      <td>My worst nightmare came true this evening...no...</td>\n",
       "      <td>2016</td>\n",
       "      <td>6</td>\n",
       "      <td>0</td>\n",
       "      <td>...</td>\n",
       "      <td>0</td>\n",
       "      <td>1</td>\n",
       "      <td>1</td>\n",
       "      <td>0</td>\n",
       "      <td>0</td>\n",
       "      <td>1</td>\n",
       "      <td>1</td>\n",
       "      <td>0</td>\n",
       "      <td>0.176020</td>\n",
       "      <td>0.000220</td>\n",
       "    </tr>\n",
       "    <tr>\n",
       "      <th>468</th>\n",
       "      <td>24.0</td>\n",
       "      <td>Tokyo Japanese Steak House</td>\n",
       "      <td>https://www.yelp.com/biz/tokyo-japanese-steak-...</td>\n",
       "      <td>909 112th Ave NEBellevue, WA 98004</td>\n",
       "      <td>2.0</td>\n",
       "      <td>2016-04-05</td>\n",
       "      <td>This is a review for my visit on Saturday, Apr...</td>\n",
       "      <td>2016</td>\n",
       "      <td>4</td>\n",
       "      <td>0</td>\n",
       "      <td>...</td>\n",
       "      <td>1</td>\n",
       "      <td>0</td>\n",
       "      <td>1</td>\n",
       "      <td>0</td>\n",
       "      <td>0</td>\n",
       "      <td>1</td>\n",
       "      <td>0</td>\n",
       "      <td>0</td>\n",
       "      <td>0.867347</td>\n",
       "      <td>0.001185</td>\n",
       "    </tr>\n",
       "    <tr>\n",
       "      <th>911</th>\n",
       "      <td>46.0</td>\n",
       "      <td>The Bento Box</td>\n",
       "      <td>https://www.yelp.com/biz/the-bento-box-redmond...</td>\n",
       "      <td>15119 NE 24th StRedmond, WA 98052</td>\n",
       "      <td>1.0</td>\n",
       "      <td>2016-06-07</td>\n",
       "      <td>The worst food in America. Don't go and waste ...</td>\n",
       "      <td>2016</td>\n",
       "      <td>6</td>\n",
       "      <td>0</td>\n",
       "      <td>...</td>\n",
       "      <td>0</td>\n",
       "      <td>0</td>\n",
       "      <td>0</td>\n",
       "      <td>0</td>\n",
       "      <td>0</td>\n",
       "      <td>1</td>\n",
       "      <td>1</td>\n",
       "      <td>0</td>\n",
       "      <td>0.024235</td>\n",
       "      <td>0.002306</td>\n",
       "    </tr>\n",
       "  </tbody>\n",
       "</table>\n",
       "<p>3 rows × 56 columns</p>\n",
       "</div>"
      ],
      "text/plain": [
       "       id                        name  \\\n",
       "545  28.0   Momoya Sushi & Sake House   \n",
       "468  24.0  Tokyo Japanese Steak House   \n",
       "911  46.0               The Bento Box   \n",
       "\n",
       "                                                   url  \\\n",
       "545  https://www.yelp.com/biz/momoya-sushi-and-sake...   \n",
       "468  https://www.yelp.com/biz/tokyo-japanese-steak-...   \n",
       "911  https://www.yelp.com/biz/the-bento-box-redmond...   \n",
       "\n",
       "                                address  rating       date  \\\n",
       "545  12100 NE 85th StKirkland, WA 98033     1.0 2016-06-11   \n",
       "468  909 112th Ave NEBellevue, WA 98004     2.0 2016-04-05   \n",
       "911   15119 NE 24th StRedmond, WA 98052     1.0 2016-06-07   \n",
       "\n",
       "                                                review  year  month  \\\n",
       "545  My worst nightmare came true this evening...no...  2016      6   \n",
       "468  This is a review for my visit on Saturday, Apr...  2016      4   \n",
       "911  The worst food in America. Don't go and waste ...  2016      6   \n",
       "\n",
       "     sentiment       ...       sorry  awful  didn't  disappointed  however  \\\n",
       "545          0       ...           0      1       1             0        0   \n",
       "468          0       ...           1      0       1             0        0   \n",
       "911          0       ...           0      0       0             0        0   \n",
       "\n",
       "     worst  terrible  slow  reviewLength  predictedScore  \n",
       "545      1         1     0      0.176020        0.000220  \n",
       "468      1         0     0      0.867347        0.001185  \n",
       "911      1         1     0      0.024235        0.002306  \n",
       "\n",
       "[3 rows x 56 columns]"
      ]
     },
     "execution_count": 59,
     "metadata": {},
     "output_type": "execute_result"
    }
   ],
   "source": [
    "dataDF.sort_values(by = 'predictedScore', ascending = True).head(3)"
   ]
  },
  {
   "cell_type": "code",
   "execution_count": 256,
   "metadata": {
    "collapsed": false
   },
   "outputs": [
    {
     "data": {
      "text/plain": [
       "'This is a review for my visit on Saturday, April 2!We arrived (two couples, 4 total people) at 8.30Pm and the place was dead. Quiet, one group of four in the back, apparently waiting for us (the only other reservation). This was Saturday night! We thought it\\'d be hopping, with a line out the door, or at least some action. It says something when a place known for fire and action was quiet and chilly.I didn\\'t catch anyone\\'s names - everyone was busy, even our chef. He repeatedly left our grill to grab things, look around, idk. By the time the \"show\" actually started it, it was about 9.30. And it all felt... staged. Boring. Not fun, but like - I wave my knives around, I start a fire, I go get another spatula because I flung it at that guy, I try again, I go get something, I wave them around again. I could tell that he was more interested in the other people at the table, a group of Koreans. He pretty much did everything for them, and we were just watching him entertain them. He spent most of his time squirting sake into their mouths, while we just waited for anything to happen.Thankfully, we\\'d ordered a couple plates of hand rolls so that we had something to eat while all of that was going on. When we finally got our food, the flavors just weren\\'t there. My steak was just tasteless, and I had to douse it in the sauce to get anything good out of it. Same with my husband\\'s chicken and scallops. The sauces did the work.By the time we actually got our food, though, it was almost closing time. He cleaned up his station, and the cleaning crew was literally cleaning up around us while we were eating. It took THAT long, in an empty restaurant.But that wasn\\'t the worst thing, and this is IMPORTANT. Groupon gets you nowhere here. We came with another couple from work, who said this place was expensive, so to get the Groupon ($35 for 50?). We did that, and as we were ordering, our other couple asked what happens with the overage (because everything on the menu, even the handful of chicken, costs $30). He said you pay the difference, blah blah. And I piped in to her, \"oh but the sushi bar isn\\'t included\" and had my phone open to the voucher. I\\'ve never used Groupon before, so I thought I had to show it to them first.He then told me, \"oh, but you can\\'t use it.\" We were confused, what? \"Only one of you can use the Groupon.\" And we all looked around, and said that we were on separate orders, paying separately. He said, \"sorry, that\\'s not how it works. Only one per group.\" And I said, but it\\'s separate orders. My friend added, what if we sat over there? He said, \"but you came in together. Only one of you is allowed to use it.\" This meant that we had to sit and decide who gets to use the Groupon and save money, for what\\'s obviously going to be an unnecessarily \\xc2\\xa0expensive meal. Apparently they let us use it when they gave us the bills, while the friends that invited us were SOL. But then I looked at our bill. The gratuity for using a Groupon, which only one person in a GROUP can use, is +18%. By the end of our meal, combined with the price of the Groupon, it would\\'ve been cheaper to not use it at all. They increase the size of the bill to make up for the \"savings\" you get from the Groupon.Also, their strawberry Italian soda was horrible (don\\'t get it). I don\\'t know what they did to it, but it was like ever-fizzy, all the way through. Like drinking bubblegum air.I\\'ve only been to one of these steakhouses before, and I was so pumped to go this time. I remember it being a bustling, hot restaurant with a lot of action, the chefs yelling at each other and performing together, with a full house and the fires going, and delicious food. Tokyo Steakhouse Bellevue was just a long wait for bad food with an argument over the bill to top it off. Not going back here.'"
      ]
     },
     "execution_count": 256,
     "metadata": {},
     "output_type": "execute_result"
    }
   ],
   "source": [
    "dataDF.ix[468, 'review']"
   ]
  },
  {
   "cell_type": "code",
   "execution_count": null,
   "metadata": {
    "collapsed": true
   },
   "outputs": [],
   "source": []
  },
  {
   "cell_type": "markdown",
   "metadata": {},
   "source": [
    "\n",
    "###  Option 4. Test the Length of Review as a feature to the model"
   ]
  },
  {
   "cell_type": "code",
   "execution_count": 50,
   "metadata": {
    "collapsed": false
   },
   "outputs": [],
   "source": [
    "# add the length of review (number of words) for each row\n",
    "def getReviewLengh(dicty):\n",
    "    return np.sum([y for (x,y) in dicty.items()])\n",
    "dataDF['reviewLength'] = pd.Series([getReviewLengh(x) for x in dataDF['word_counts']], index = dataDF.index)"
   ]
  },
  {
   "cell_type": "code",
   "execution_count": 86,
   "metadata": {
    "collapsed": false
   },
   "outputs": [
    {
     "data": {
      "text/html": [
       "<div>\n",
       "<table border=\"1\" class=\"dataframe\">\n",
       "  <thead>\n",
       "    <tr style=\"text-align: right;\">\n",
       "      <th></th>\n",
       "      <th>reviewLength</th>\n",
       "    </tr>\n",
       "    <tr>\n",
       "      <th>rating</th>\n",
       "      <th></th>\n",
       "    </tr>\n",
       "  </thead>\n",
       "  <tbody>\n",
       "    <tr>\n",
       "      <th>1.0</th>\n",
       "      <td>0.127650</td>\n",
       "    </tr>\n",
       "    <tr>\n",
       "      <th>2.0</th>\n",
       "      <td>0.172311</td>\n",
       "    </tr>\n",
       "    <tr>\n",
       "      <th>4.0</th>\n",
       "      <td>0.147252</td>\n",
       "    </tr>\n",
       "    <tr>\n",
       "      <th>5.0</th>\n",
       "      <td>0.122828</td>\n",
       "    </tr>\n",
       "  </tbody>\n",
       "</table>\n",
       "</div>"
      ],
      "text/plain": [
       "        reviewLength\n",
       "rating              \n",
       "1.0         0.127650\n",
       "2.0         0.172311\n",
       "4.0         0.147252\n",
       "5.0         0.122828"
      ]
     },
     "execution_count": 86,
     "metadata": {},
     "output_type": "execute_result"
    }
   ],
   "source": [
    "pd.pivot_table(dataDF, index = ['rating'], values = ['reviewLength'], aggfunc = np.mean)\n",
    "\n",
    "# Try Histogram instead of mean!!!!!"
   ]
  },
  {
   "cell_type": "code",
   "execution_count": 52,
   "metadata": {
    "collapsed": true
   },
   "outputs": [],
   "source": [
    "# Normalize the reviewLength column\n",
    "\n",
    "dataDF['reviewLength'] = (dataDF['reviewLength'] - dataDF['reviewLength'].min())/(dataDF['reviewLength'].max() - dataDF['reviewLength'].min())"
   ]
  },
  {
   "cell_type": "code",
   "execution_count": 54,
   "metadata": {
    "collapsed": false
   },
   "outputs": [],
   "source": [
    "# dataDF.drop(['reviewLengthNorm'], axis = 1, inplace = True)"
   ]
  },
  {
   "cell_type": "code",
   "execution_count": 82,
   "metadata": {
    "collapsed": false
   },
   "outputs": [
    {
     "name": "stdout",
     "output_type": "stream",
     "text": [
      "Fitting 5 folds for each of 24 candidates, totalling 120 fits\n",
      "             precision    recall  f1-score   support\n",
      "\n",
      "          0       0.58      0.31      0.40        62\n",
      "          1       0.86      0.95      0.90       276\n",
      "\n",
      "avg / total       0.81      0.83      0.81       338\n",
      "\n",
      "\n",
      "Area Under the Curve is: 0.750993454885\n"
     ]
    },
    {
     "name": "stderr",
     "output_type": "stream",
     "text": [
      "[Parallel(n_jobs=1)]: Done 120 out of 120 | elapsed:    1.1s finished\n"
     ]
    },
    {
     "data": {
      "image/png": "[encoded data removed]",
      "text/plain": [
       "<matplotlib.figure.Figure at 0x10e394e0>"
      ]
     },
     "metadata": {},
     "output_type": "display_data"
    }
   ],
   "source": [
    "# Define feature and responsible variables\n",
    "Y = dataDF['sentiment']\n",
    "X = dataDF[dataDF.columns.values[11:]]\n",
    "modelFunc(X,Y)"
   ]
  },
  {
   "cell_type": "code",
   "execution_count": null,
   "metadata": {
    "collapsed": true
   },
   "outputs": [],
   "source": []
  },
  {
   "cell_type": "code",
   "execution_count": null,
   "metadata": {
    "collapsed": true
   },
   "outputs": [],
   "source": []
  },
  {
   "cell_type": "markdown",
   "metadata": {
    "collapsed": true
   },
   "source": [
    "# Limitations of the Bag-of-Word Model:\n",
    "###  1. Couldn't take into accounts of the combination of words:\n",
    "#####        e.g. 'only take cash', 'nothing fancy',  'middle grade\n",
    "#####        e.g. \"good\" was used in this model as a positive keyword but \"Not good\" means a negative review\n",
    "\n",
    "###  2. Assign different weight to keywords\n",
    "#####       e.g. 'great' indicates a stronger sentiment than 'good'\n"
   ]
  }
 ],
 "metadata": {
  "kernelspec": {
   "display_name": "Python [Root]",
   "language": "python",
   "name": "Python [Root]"
  },
  "language_info": {
   "codemirror_mode": {
    "name": "ipython",
    "version": 2
   },
   "file_extension": ".py",
   "mimetype": "text/x-python",
   "name": "python",
   "nbconvert_exporter": "python",
   "pygments_lexer": "ipython2",
   "version": "2.7.12"
  }
 },
 "nbformat": 4,
 "nbformat_minor": 0
}
